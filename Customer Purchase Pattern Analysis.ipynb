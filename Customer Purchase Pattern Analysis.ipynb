{
 "cells": [
  {
   "cell_type": "code",
   "execution_count": 12,
   "id": "83f1bc97",
   "metadata": {},
   "outputs": [],
   "source": [
    "import pandas as pd\n",
    "import matplotlib.pyplot as plt\n",
    "import warnings as wr\n",
    "wr.filterwarnings('ignore')"
   ]
  },
  {
   "cell_type": "code",
   "execution_count": 23,
   "id": "2b5990f8",
   "metadata": {},
   "outputs": [
    {
     "ename": "TypeError",
     "evalue": "read_csv() got an unexpected keyword argument 'file_path'",
     "output_type": "error",
     "traceback": [
      "\u001b[1;31m---------------------------------------------------------------------------\u001b[0m",
      "\u001b[1;31mTypeError\u001b[0m                                 Traceback (most recent call last)",
      "Cell \u001b[1;32mIn[23], line 1\u001b[0m\n\u001b[1;32m----> 1\u001b[0m df \u001b[38;5;241m=\u001b[39m \u001b[43mpd\u001b[49m\u001b[38;5;241;43m.\u001b[39;49m\u001b[43mread_csv\u001b[49m\u001b[43m(\u001b[49m\u001b[43mfile_path\u001b[49m\u001b[38;5;241;43m=\u001b[39;49m\u001b[38;5;124;43m\"\u001b[39;49m\u001b[38;5;124;43m/absolute/path/to/mall_customers.csv\u001b[39;49m\u001b[38;5;124;43m\"\u001b[39;49m\u001b[43m)\u001b[49m\n\u001b[0;32m      2\u001b[0m df\u001b[38;5;241m.\u001b[39mhead()\n",
      "\u001b[1;31mTypeError\u001b[0m: read_csv() got an unexpected keyword argument 'file_path'"
     ]
    }
   ],
   "source": [
    "df = pd.read_csv(file_path=\"/absolute/path/to/mall_customers.csv\")\n",
    "df.head()"
   ]
  },
  {
   "cell_type": "code",
   "execution_count": null,
   "id": "eec325bb",
   "metadata": {},
   "outputs": [],
   "source": [
    "#df = df.drop(['CustomerID','Gender'], axis=1)\n",
    "df.drop(['CustomerID','Gender'], axis=1, inplace=True)"
   ]
  },
  {
   "cell_type": "code",
   "execution_count": null,
   "id": "160252fb",
   "metadata": {},
   "outputs": [],
   "source": [
    "df.head()"
   ]
  },
  {
   "cell_type": "code",
   "execution_count": null,
   "id": "0f239e8f",
   "metadata": {},
   "outputs": [],
   "source": [
    "df.rename(columns={'Age': 'age', 'Annual Income (k$)':'income', 'Spending Score (1-100)':'score'}, inplace=True)"
   ]
  },
  {
   "cell_type": "code",
   "execution_count": null,
   "id": "e30b942e",
   "metadata": {},
   "outputs": [],
   "source": [
    "df.head()"
   ]
  },
  {
   "cell_type": "code",
   "execution_count": null,
   "id": "3853ac66",
   "metadata": {},
   "outputs": [],
   "source": [
    "df.shape"
   ]
  },
  {
   "cell_type": "code",
   "execution_count": null,
   "id": "7deb0327",
   "metadata": {},
   "outputs": [],
   "source": [
    "plt.scatter(df.age, df.income)"
   ]
  },
  {
   "cell_type": "code",
   "execution_count": null,
   "id": "45d4cd22",
   "metadata": {},
   "outputs": [],
   "source": [
    "plt.scatter(df.age, df.score)"
   ]
  },
  {
   "cell_type": "code",
   "execution_count": null,
   "id": "070380ad",
   "metadata": {},
   "outputs": [],
   "source": [
    "plt.scatter(df.score, df.income)"
   ]
  },
  {
   "cell_type": "code",
   "execution_count": null,
   "id": "5592fd58",
   "metadata": {},
   "outputs": [],
   "source": [
    "import seaborn as sns\n",
    "sns.pairplot(df[['age','income','score']])\n",
    "plt.savefig('image.png')"
   ]
  },
  {
   "cell_type": "markdown",
   "id": "c5c8893e",
   "metadata": {},
   "source": [
    "# KMEANS CLUSTER"
   ]
  },
  {
   "cell_type": "code",
   "execution_count": null,
   "id": "6a1908db",
   "metadata": {},
   "outputs": [],
   "source": [
    "plt.scatter(df.score, df.income, color='black')\n",
    "plt.xlabel('scores')\n",
    "plt.ylabel('income')\n",
    "plt.title('income and score plot of cutomres')"
   ]
  },
  {
   "cell_type": "code",
   "execution_count": null,
   "id": "e2a78feb",
   "metadata": {},
   "outputs": [],
   "source": [
    "#https://scikit-learn.org/stable/modules/generated/sklearn.cluster.KMeans.html"
   ]
  },
  {
   "cell_type": "code",
   "execution_count": null,
   "id": "782b1d81",
   "metadata": {},
   "outputs": [],
   "source": [
    "from sklearn.cluster import KMeans"
   ]
  },
  {
   "cell_type": "code",
   "execution_count": null,
   "id": "fb59a897",
   "metadata": {},
   "outputs": [],
   "source": [
    "km = KMeans() #n_clusters=8"
   ]
  },
  {
   "cell_type": "code",
   "execution_count": null,
   "id": "d85ecf94",
   "metadata": {},
   "outputs": [],
   "source": [
    "km.fit(df[['score', 'income']]) #fit_predict()"
   ]
  },
  {
   "cell_type": "code",
   "execution_count": null,
   "id": "c43730d7",
   "metadata": {},
   "outputs": [],
   "source": [
    "df['Group1'] = km.predict(df[['score', 'income']])"
   ]
  },
  {
   "cell_type": "code",
   "execution_count": null,
   "id": "25899ba0",
   "metadata": {},
   "outputs": [],
   "source": [
    "km.cluster_centers_ "
   ]
  },
  {
   "cell_type": "code",
   "execution_count": null,
   "id": "1a67178b",
   "metadata": {},
   "outputs": [],
   "source": [
    "df"
   ]
  },
  {
   "cell_type": "code",
   "execution_count": null,
   "id": "165ab07d",
   "metadata": {},
   "outputs": [],
   "source": [
    "df0 = df[df.Group1 == 0]\n",
    "df1 = df[df.Group1 == 1]\n",
    "df2 = df[df.Group1 == 2]\n",
    "df3 = df[df.Group1 == 3]\n",
    "df4 = df[df.Group1 == 4]\n",
    "df5 = df[df.Group1 == 5]\n",
    "df6 = df[df.Group1 == 6]\n",
    "df7 = df[df.Group1 == 7]"
   ]
  },
  {
   "cell_type": "code",
   "execution_count": null,
   "id": "d12df577",
   "metadata": {},
   "outputs": [],
   "source": [
    "df0.head()"
   ]
  },
  {
   "cell_type": "code",
   "execution_count": null,
   "id": "4d595ec4",
   "metadata": {},
   "outputs": [],
   "source": [
    "df2.head()"
   ]
  },
  {
   "cell_type": "code",
   "execution_count": null,
   "id": "bcb421c4",
   "metadata": {},
   "outputs": [],
   "source": [
    "centroid = km.cluster_centers_ \n",
    "centroid"
   ]
  },
  {
   "cell_type": "code",
   "execution_count": null,
   "id": "1fa2d36e",
   "metadata": {},
   "outputs": [],
   "source": [
    "plt.figure(figsize=(10,6))\n",
    "plt.scatter(df0.score, df0.income, color='pink', label='cluster 0')\n",
    "plt.scatter(df1.score, df1.income, color='blue', label='cluster 1')\n",
    "plt.scatter(df2.score, df2.income, color='green', label='cluster 2')\n",
    "plt.scatter(df3.score, df3.income, color='magenta', label='cluster 3')\n",
    "plt.scatter(df4.score, df4.income, color='orange', label='cluster 4')\n",
    "plt.scatter(df5.score, df5.income, color='cyan', label='cluster 5')\n",
    "plt.scatter(df6.score, df6.income, color='yellow', label='cluster 6')\n",
    "plt.scatter(df7.score, df7.income, color='black', label='cluster 7')\n",
    "\n",
    "plt.scatter(centroid[:, 0], centroid[:,1], color='red', label='centroid')\n",
    "\n",
    "plt.title('Before Optimization')\n",
    "\n",
    "plt.legend()"
   ]
  },
  {
   "cell_type": "markdown",
   "id": "8b906836",
   "metadata": {},
   "source": [
    "# Optimizing KMENAS"
   ]
  },
  {
   "cell_type": "code",
   "execution_count": null,
   "id": "094be3fc",
   "metadata": {},
   "outputs": [],
   "source": [
    "wcss = []\n",
    "cluster = range(1,15)\n",
    "for k in cluster:\n",
    "    km2 = KMeans(n_clusters=k)\n",
    "    km2.fit(df[['score', 'income']])\n",
    "    wcss.append(km2.inertia_)"
   ]
  },
  {
   "cell_type": "code",
   "execution_count": null,
   "id": "bca80f24",
   "metadata": {},
   "outputs": [],
   "source": [
    "wcss"
   ]
  },
  {
   "cell_type": "code",
   "execution_count": null,
   "id": "992308de",
   "metadata": {},
   "outputs": [],
   "source": [
    "plt.plot(range(1,15), wcss, marker='o') #line plot\n",
    "plt.ylabel('WCSS')\n",
    "plt.xlabel('Cluster')"
   ]
  },
  {
   "cell_type": "code",
   "execution_count": null,
   "id": "d2c3d7c4",
   "metadata": {},
   "outputs": [],
   "source": [
    "from kneed import KneeLocator"
   ]
  },
  {
   "cell_type": "code",
   "execution_count": null,
   "id": "7052e98f",
   "metadata": {},
   "outputs": [],
   "source": [
    "kn = KneeLocator(cluster, wcss, direction='decreasing', curve='convex')"
   ]
  },
  {
   "cell_type": "code",
   "execution_count": null,
   "id": "a8c932bd",
   "metadata": {},
   "outputs": [],
   "source": [
    "kn.plot_knee()"
   ]
  },
  {
   "cell_type": "code",
   "execution_count": null,
   "id": "8f30fb58",
   "metadata": {},
   "outputs": [],
   "source": [
    "kn.knee"
   ]
  },
  {
   "cell_type": "markdown",
   "id": "f700db8e",
   "metadata": {},
   "source": [
    "# After Optimizing"
   ]
  },
  {
   "cell_type": "code",
   "execution_count": null,
   "id": "2d05d908",
   "metadata": {},
   "outputs": [],
   "source": [
    "km = KMeans(n_clusters=5) #i know 5 is optimal\n",
    "df['Group2'] = km.fit_predict(df[['score', 'income']]) #fit_predict()"
   ]
  },
  {
   "cell_type": "code",
   "execution_count": null,
   "id": "9e674915",
   "metadata": {},
   "outputs": [],
   "source": [
    "df.head()"
   ]
  },
  {
   "cell_type": "code",
   "execution_count": null,
   "id": "490563f5",
   "metadata": {},
   "outputs": [],
   "source": [
    "cen = km.cluster_centers_\n",
    "cen"
   ]
  },
  {
   "cell_type": "code",
   "execution_count": null,
   "id": "787af538",
   "metadata": {},
   "outputs": [],
   "source": [
    "df0 = df[df.Group2 == 0]\n",
    "df1 = df[df.Group2 == 1]\n",
    "df2 = df[df.Group2 == 2]\n",
    "df3 = df[df.Group2 == 3]\n",
    "df4 = df[df.Group2 == 4]\n",
    "\n",
    "plt.figure(figsize=(10,6))\n",
    "plt.scatter(df0.score, df0.income, color='pink', label='cluster 0')\n",
    "plt.scatter(df1.score, df1.income, color='blue', label='cluster 1')\n",
    "plt.scatter(df2.score, df2.income, color='green', label='cluster 2')\n",
    "plt.scatter(df3.score, df3.income, color='magenta', label='cluster 3')\n",
    "plt.scatter(df4.score, df4.income, color='orange', label='cluster 4')\n",
    "\n",
    "plt.scatter(cen[:, 0], cen[:,1], color='red', label='centroid')\n",
    "plt.title('After Optimization')\n",
    "\n",
    "plt.legend()"
   ]
  },
  {
   "cell_type": "code",
   "execution_count": null,
   "id": "58ff8de7",
   "metadata": {},
   "outputs": [],
   "source": []
  }
 ],
 "metadata": {
  "kernelspec": {
   "display_name": "Python 3 (ipykernel)",
   "language": "python",
   "name": "python3"
  },
  "language_info": {
   "codemirror_mode": {
    "name": "ipython",
    "version": 3
   },
   "file_extension": ".py",
   "mimetype": "text/x-python",
   "name": "python",
   "nbconvert_exporter": "python",
   "pygments_lexer": "ipython3",
   "version": "3.12.1"
  }
 },
 "nbformat": 4,
 "nbformat_minor": 5
}
